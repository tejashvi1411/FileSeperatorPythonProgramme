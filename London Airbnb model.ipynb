{
 "cells": [
  {
   "cell_type": "code",
   "execution_count": 1,
   "metadata": {},
   "outputs": [],
   "source": [
    "import pandas as pd\n",
    "import numpy as np\n",
    "import matplotlib.pyplot as plt\n",
    "%matplotlib inline  \n",
    "import seaborn as sns\n",
    "import scipy as scp"
   ]
  },
  {
   "cell_type": "code",
   "execution_count": 2,
   "metadata": {},
   "outputs": [],
   "source": [
    "df=pd.read_csv(\"LondonAirbnb.csv\")"
   ]
  },
  {
   "cell_type": "code",
   "execution_count": 3,
   "metadata": {},
   "outputs": [
    {
     "data": {
      "text/html": [
       "<div>\n",
       "<style scoped>\n",
       "    .dataframe tbody tr th:only-of-type {\n",
       "        vertical-align: middle;\n",
       "    }\n",
       "\n",
       "    .dataframe tbody tr th {\n",
       "        vertical-align: top;\n",
       "    }\n",
       "\n",
       "    .dataframe thead th {\n",
       "        text-align: right;\n",
       "    }\n",
       "</style>\n",
       "<table border=\"1\" class=\"dataframe\">\n",
       "  <thead>\n",
       "    <tr style=\"text-align: right;\">\n",
       "      <th></th>\n",
       "      <th>id</th>\n",
       "      <th>listing_url</th>\n",
       "      <th>scrape_id</th>\n",
       "      <th>last_scraped</th>\n",
       "      <th>name</th>\n",
       "      <th>description</th>\n",
       "      <th>neighborhood_overview</th>\n",
       "      <th>picture_url</th>\n",
       "      <th>host_id</th>\n",
       "      <th>host_url</th>\n",
       "      <th>...</th>\n",
       "      <th>review_scores_communication</th>\n",
       "      <th>review_scores_location</th>\n",
       "      <th>review_scores_value</th>\n",
       "      <th>license</th>\n",
       "      <th>instant_bookable</th>\n",
       "      <th>calculated_host_listings_count</th>\n",
       "      <th>calculated_host_listings_count_entire_homes</th>\n",
       "      <th>calculated_host_listings_count_private_rooms</th>\n",
       "      <th>calculated_host_listings_count_shared_rooms</th>\n",
       "      <th>reviews_per_month</th>\n",
       "    </tr>\n",
       "  </thead>\n",
       "  <tbody>\n",
       "    <tr>\n",
       "      <th>0</th>\n",
       "      <td>11551</td>\n",
       "      <td>https://www.airbnb.com/rooms/11551</td>\n",
       "      <td>20210706215658</td>\n",
       "      <td>2021-07-08</td>\n",
       "      <td>Arty and Bright London Apartment in Zone 2</td>\n",
       "      <td>Unlike most rental apartments my flat gives yo...</td>\n",
       "      <td>Not even 10 minutes by metro from Victoria Sta...</td>\n",
       "      <td>https://a0.muscache.com/pictures/b7afccf4-18e5...</td>\n",
       "      <td>43039</td>\n",
       "      <td>https://www.airbnb.com/users/show/43039</td>\n",
       "      <td>...</td>\n",
       "      <td>4.85</td>\n",
       "      <td>4.53</td>\n",
       "      <td>4.52</td>\n",
       "      <td>NaN</td>\n",
       "      <td>f</td>\n",
       "      <td>3</td>\n",
       "      <td>3</td>\n",
       "      <td>0</td>\n",
       "      <td>0</td>\n",
       "      <td>1.63</td>\n",
       "    </tr>\n",
       "    <tr>\n",
       "      <th>1</th>\n",
       "      <td>13913</td>\n",
       "      <td>https://www.airbnb.com/rooms/13913</td>\n",
       "      <td>20210706215658</td>\n",
       "      <td>2021-07-08</td>\n",
       "      <td>Holiday London DB Room Let-on going</td>\n",
       "      <td>My bright double bedroom with a large window h...</td>\n",
       "      <td>Finsbury Park is a friendly melting pot commun...</td>\n",
       "      <td>https://a0.muscache.com/pictures/miso/Hosting-...</td>\n",
       "      <td>54730</td>\n",
       "      <td>https://www.airbnb.com/users/show/54730</td>\n",
       "      <td>...</td>\n",
       "      <td>4.89</td>\n",
       "      <td>4.63</td>\n",
       "      <td>4.74</td>\n",
       "      <td>NaN</td>\n",
       "      <td>f</td>\n",
       "      <td>2</td>\n",
       "      <td>1</td>\n",
       "      <td>1</td>\n",
       "      <td>0</td>\n",
       "      <td>0.17</td>\n",
       "    </tr>\n",
       "    <tr>\n",
       "      <th>2</th>\n",
       "      <td>15400</td>\n",
       "      <td>https://www.airbnb.com/rooms/15400</td>\n",
       "      <td>20210706215658</td>\n",
       "      <td>2021-07-08</td>\n",
       "      <td>Bright Chelsea  Apartment. Chelsea!</td>\n",
       "      <td>Lots of windows and light.  St Luke's Gardens ...</td>\n",
       "      <td>It is Chelsea.</td>\n",
       "      <td>https://a0.muscache.com/pictures/428392/462d26...</td>\n",
       "      <td>60302</td>\n",
       "      <td>https://www.airbnb.com/users/show/60302</td>\n",
       "      <td>...</td>\n",
       "      <td>4.82</td>\n",
       "      <td>4.93</td>\n",
       "      <td>4.73</td>\n",
       "      <td>NaN</td>\n",
       "      <td>t</td>\n",
       "      <td>1</td>\n",
       "      <td>1</td>\n",
       "      <td>0</td>\n",
       "      <td>0</td>\n",
       "      <td>0.81</td>\n",
       "    </tr>\n",
       "    <tr>\n",
       "      <th>3</th>\n",
       "      <td>17402</td>\n",
       "      <td>https://www.airbnb.com/rooms/17402</td>\n",
       "      <td>20210706215658</td>\n",
       "      <td>2021-07-08</td>\n",
       "      <td>Superb 3-Bed/2 Bath &amp; Wifi: Trendy W1</td>\n",
       "      <td>You'll have a wonderful stay in this superb mo...</td>\n",
       "      <td>Location, location, location! You won't find b...</td>\n",
       "      <td>https://a0.muscache.com/pictures/39d5309d-fba7...</td>\n",
       "      <td>67564</td>\n",
       "      <td>https://www.airbnb.com/users/show/67564</td>\n",
       "      <td>...</td>\n",
       "      <td>4.66</td>\n",
       "      <td>4.85</td>\n",
       "      <td>4.59</td>\n",
       "      <td>NaN</td>\n",
       "      <td>f</td>\n",
       "      <td>15</td>\n",
       "      <td>15</td>\n",
       "      <td>0</td>\n",
       "      <td>0</td>\n",
       "      <td>0.36</td>\n",
       "    </tr>\n",
       "    <tr>\n",
       "      <th>4</th>\n",
       "      <td>17506</td>\n",
       "      <td>https://www.airbnb.com/rooms/17506</td>\n",
       "      <td>20210706215658</td>\n",
       "      <td>2021-07-08</td>\n",
       "      <td>Boutique Chelsea/Fulham Double bed 5-star ensuite</td>\n",
       "      <td>Enjoy a chic stay in this elegant but fully mo...</td>\n",
       "      <td>Fulham is 'villagey' and residential – a real ...</td>\n",
       "      <td>https://a0.muscache.com/pictures/11901327/e63d...</td>\n",
       "      <td>67915</td>\n",
       "      <td>https://www.airbnb.com/users/show/67915</td>\n",
       "      <td>...</td>\n",
       "      <td>NaN</td>\n",
       "      <td>NaN</td>\n",
       "      <td>NaN</td>\n",
       "      <td>NaN</td>\n",
       "      <td>f</td>\n",
       "      <td>2</td>\n",
       "      <td>0</td>\n",
       "      <td>2</td>\n",
       "      <td>0</td>\n",
       "      <td>NaN</td>\n",
       "    </tr>\n",
       "  </tbody>\n",
       "</table>\n",
       "<p>5 rows × 74 columns</p>\n",
       "</div>"
      ],
      "text/plain": [
       "      id                         listing_url       scrape_id last_scraped  \\\n",
       "0  11551  https://www.airbnb.com/rooms/11551  20210706215658   2021-07-08   \n",
       "1  13913  https://www.airbnb.com/rooms/13913  20210706215658   2021-07-08   \n",
       "2  15400  https://www.airbnb.com/rooms/15400  20210706215658   2021-07-08   \n",
       "3  17402  https://www.airbnb.com/rooms/17402  20210706215658   2021-07-08   \n",
       "4  17506  https://www.airbnb.com/rooms/17506  20210706215658   2021-07-08   \n",
       "\n",
       "                                                name  \\\n",
       "0         Arty and Bright London Apartment in Zone 2   \n",
       "1                Holiday London DB Room Let-on going   \n",
       "2                Bright Chelsea  Apartment. Chelsea!   \n",
       "3              Superb 3-Bed/2 Bath & Wifi: Trendy W1   \n",
       "4  Boutique Chelsea/Fulham Double bed 5-star ensuite   \n",
       "\n",
       "                                         description  \\\n",
       "0  Unlike most rental apartments my flat gives yo...   \n",
       "1  My bright double bedroom with a large window h...   \n",
       "2  Lots of windows and light.  St Luke's Gardens ...   \n",
       "3  You'll have a wonderful stay in this superb mo...   \n",
       "4  Enjoy a chic stay in this elegant but fully mo...   \n",
       "\n",
       "                               neighborhood_overview  \\\n",
       "0  Not even 10 minutes by metro from Victoria Sta...   \n",
       "1  Finsbury Park is a friendly melting pot commun...   \n",
       "2                                     It is Chelsea.   \n",
       "3  Location, location, location! You won't find b...   \n",
       "4  Fulham is 'villagey' and residential – a real ...   \n",
       "\n",
       "                                         picture_url  host_id  \\\n",
       "0  https://a0.muscache.com/pictures/b7afccf4-18e5...    43039   \n",
       "1  https://a0.muscache.com/pictures/miso/Hosting-...    54730   \n",
       "2  https://a0.muscache.com/pictures/428392/462d26...    60302   \n",
       "3  https://a0.muscache.com/pictures/39d5309d-fba7...    67564   \n",
       "4  https://a0.muscache.com/pictures/11901327/e63d...    67915   \n",
       "\n",
       "                                  host_url  ... review_scores_communication  \\\n",
       "0  https://www.airbnb.com/users/show/43039  ...                        4.85   \n",
       "1  https://www.airbnb.com/users/show/54730  ...                        4.89   \n",
       "2  https://www.airbnb.com/users/show/60302  ...                        4.82   \n",
       "3  https://www.airbnb.com/users/show/67564  ...                        4.66   \n",
       "4  https://www.airbnb.com/users/show/67915  ...                         NaN   \n",
       "\n",
       "  review_scores_location review_scores_value license instant_bookable  \\\n",
       "0                   4.53                4.52     NaN                f   \n",
       "1                   4.63                4.74     NaN                f   \n",
       "2                   4.93                4.73     NaN                t   \n",
       "3                   4.85                4.59     NaN                f   \n",
       "4                    NaN                 NaN     NaN                f   \n",
       "\n",
       "  calculated_host_listings_count calculated_host_listings_count_entire_homes  \\\n",
       "0                              3                                           3   \n",
       "1                              2                                           1   \n",
       "2                              1                                           1   \n",
       "3                             15                                          15   \n",
       "4                              2                                           0   \n",
       "\n",
       "  calculated_host_listings_count_private_rooms  \\\n",
       "0                                            0   \n",
       "1                                            1   \n",
       "2                                            0   \n",
       "3                                            0   \n",
       "4                                            2   \n",
       "\n",
       "  calculated_host_listings_count_shared_rooms reviews_per_month  \n",
       "0                                           0              1.63  \n",
       "1                                           0              0.17  \n",
       "2                                           0              0.81  \n",
       "3                                           0              0.36  \n",
       "4                                           0               NaN  \n",
       "\n",
       "[5 rows x 74 columns]"
      ]
     },
     "execution_count": 3,
     "metadata": {},
     "output_type": "execute_result"
    }
   ],
   "source": [
    "df[0:5]"
   ]
  },
  {
   "cell_type": "code",
   "execution_count": 4,
   "metadata": {},
   "outputs": [
    {
     "data": {
      "text/plain": [
       "Index(['id', 'listing_url', 'scrape_id', 'last_scraped', 'name', 'description',\n",
       "       'neighborhood_overview', 'picture_url', 'host_id', 'host_url',\n",
       "       'host_name', 'host_since', 'host_location', 'host_about',\n",
       "       'host_response_time', 'host_response_rate', 'host_acceptance_rate',\n",
       "       'host_is_superhost', 'host_thumbnail_url', 'host_picture_url',\n",
       "       'host_neighbourhood', 'host_listings_count',\n",
       "       'host_total_listings_count', 'host_verifications',\n",
       "       'host_has_profile_pic', 'host_identity_verified', 'neighbourhood',\n",
       "       'neighbourhood_cleansed', 'neighbourhood_group_cleansed', 'latitude',\n",
       "       'longitude', 'property_type', 'room_type', 'accommodates', 'bathrooms',\n",
       "       'bathrooms_text', 'bedrooms', 'beds', 'amenities', 'price',\n",
       "       'minimum_nights', 'maximum_nights', 'minimum_minimum_nights',\n",
       "       'maximum_minimum_nights', 'minimum_maximum_nights',\n",
       "       'maximum_maximum_nights', 'minimum_nights_avg_ntm',\n",
       "       'maximum_nights_avg_ntm', 'calendar_updated', 'has_availability',\n",
       "       'availability_30', 'availability_60', 'availability_90',\n",
       "       'availability_365', 'calendar_last_scraped', 'number_of_reviews',\n",
       "       'number_of_reviews_ltm', 'number_of_reviews_l30d', 'first_review',\n",
       "       'last_review', 'review_scores_rating', 'review_scores_accuracy',\n",
       "       'review_scores_cleanliness', 'review_scores_checkin',\n",
       "       'review_scores_communication', 'review_scores_location',\n",
       "       'review_scores_value', 'license', 'instant_bookable',\n",
       "       'calculated_host_listings_count',\n",
       "       'calculated_host_listings_count_entire_homes',\n",
       "       'calculated_host_listings_count_private_rooms',\n",
       "       'calculated_host_listings_count_shared_rooms', 'reviews_per_month'],\n",
       "      dtype='object')"
      ]
     },
     "execution_count": 4,
     "metadata": {},
     "output_type": "execute_result"
    }
   ],
   "source": [
    "df.columns"
   ]
  },
  {
   "cell_type": "code",
   "execution_count": 5,
   "metadata": {},
   "outputs": [],
   "source": [
    "df=df.drop(columns=['listing_url', 'scrape_id', 'last_scraped', 'name', 'description',\n",
    "       'neighborhood_overview', 'picture_url', 'host_id', 'host_url',\n",
    "       'host_name', 'host_since', 'host_location', 'host_about',\n",
    "       'host_response_time', 'host_response_rate', 'host_acceptance_rate',\n",
    "       'host_is_superhost', 'host_thumbnail_url', 'host_picture_url',\n",
    "       'host_neighbourhood', 'host_listings_count',\n",
    "       'host_total_listings_count', 'host_verifications',\n",
    "       'host_has_profile_pic', 'host_identity_verified', 'neighbourhood_group_cleansed','amenities', 'minimum_minimum_nights',\n",
    "       'maximum_minimum_nights', 'minimum_maximum_nights',\n",
    "       'maximum_maximum_nights', 'minimum_nights_avg_ntm',\n",
    "       'maximum_nights_avg_ntm', 'calendar_updated',\n",
    "       'availability_365', 'calendar_last_scraped', 'number_of_reviews',\n",
    "       'number_of_reviews_ltm', 'number_of_reviews_l30d', 'first_review',\n",
    "       'last_review', 'review_scores_accuracy',\n",
    "       'review_scores_cleanliness', 'review_scores_checkin',\n",
    "       'review_scores_communication','review_scores_value', 'license', 'instant_bookable',\n",
    "       'calculated_host_listings_count_entire_homes',\n",
    "       'calculated_host_listings_count_private_rooms',\n",
    "       'calculated_host_listings_count_shared_rooms','availability_30','availability_60','availability_90','minimum_nights','review_scores_location'])"
   ]
  },
  {
   "cell_type": "code",
   "execution_count": 6,
   "metadata": {},
   "outputs": [],
   "source": [
    "df=df.drop(columns=[\"neighbourhood\",\"property_type\",\"bathrooms\"])"
   ]
  },
  {
   "cell_type": "code",
   "execution_count": 7,
   "metadata": {},
   "outputs": [
    {
     "name": "stdout",
     "output_type": "stream",
     "text": [
      "<class 'pandas.core.frame.DataFrame'>\n",
      "RangeIndex: 73364 entries, 0 to 73363\n",
      "Data columns (total 15 columns):\n",
      " #   Column                          Non-Null Count  Dtype  \n",
      "---  ------                          --------------  -----  \n",
      " 0   id                              73364 non-null  int64  \n",
      " 1   neighbourhood_cleansed          73364 non-null  object \n",
      " 2   latitude                        73364 non-null  float64\n",
      " 3   longitude                       73364 non-null  float64\n",
      " 4   room_type                       73364 non-null  object \n",
      " 5   accommodates                    73364 non-null  int64  \n",
      " 6   bathrooms_text                  73181 non-null  object \n",
      " 7   bedrooms                        68712 non-null  float64\n",
      " 8   beds                            72143 non-null  float64\n",
      " 9   price                           73364 non-null  object \n",
      " 10  maximum_nights                  73364 non-null  int64  \n",
      " 11  has_availability                73364 non-null  object \n",
      " 12  review_scores_rating            50786 non-null  float64\n",
      " 13  calculated_host_listings_count  73364 non-null  int64  \n",
      " 14  reviews_per_month               50786 non-null  float64\n",
      "dtypes: float64(6), int64(4), object(5)\n",
      "memory usage: 8.4+ MB\n"
     ]
    }
   ],
   "source": [
    "df.info()"
   ]
  },
  {
   "cell_type": "code",
   "execution_count": 8,
   "metadata": {},
   "outputs": [
    {
     "data": {
      "text/html": [
       "<div>\n",
       "<style scoped>\n",
       "    .dataframe tbody tr th:only-of-type {\n",
       "        vertical-align: middle;\n",
       "    }\n",
       "\n",
       "    .dataframe tbody tr th {\n",
       "        vertical-align: top;\n",
       "    }\n",
       "\n",
       "    .dataframe thead th {\n",
       "        text-align: right;\n",
       "    }\n",
       "</style>\n",
       "<table border=\"1\" class=\"dataframe\">\n",
       "  <thead>\n",
       "    <tr style=\"text-align: right;\">\n",
       "      <th></th>\n",
       "      <th>id</th>\n",
       "      <th>latitude</th>\n",
       "      <th>longitude</th>\n",
       "      <th>accommodates</th>\n",
       "      <th>bedrooms</th>\n",
       "      <th>beds</th>\n",
       "      <th>maximum_nights</th>\n",
       "      <th>review_scores_rating</th>\n",
       "      <th>calculated_host_listings_count</th>\n",
       "      <th>reviews_per_month</th>\n",
       "    </tr>\n",
       "  </thead>\n",
       "  <tbody>\n",
       "    <tr>\n",
       "      <th>count</th>\n",
       "      <td>7.336400e+04</td>\n",
       "      <td>73364.000000</td>\n",
       "      <td>73364.000000</td>\n",
       "      <td>73364.000000</td>\n",
       "      <td>68712.000000</td>\n",
       "      <td>72143.000000</td>\n",
       "      <td>7.336400e+04</td>\n",
       "      <td>50786.000000</td>\n",
       "      <td>73364.000000</td>\n",
       "      <td>50786.000000</td>\n",
       "    </tr>\n",
       "    <tr>\n",
       "      <th>mean</th>\n",
       "      <td>2.728494e+07</td>\n",
       "      <td>51.509863</td>\n",
       "      <td>-0.128646</td>\n",
       "      <td>3.002276</td>\n",
       "      <td>1.481080</td>\n",
       "      <td>1.684280</td>\n",
       "      <td>1.455693e+04</td>\n",
       "      <td>4.513564</td>\n",
       "      <td>28.106128</td>\n",
       "      <td>0.632481</td>\n",
       "    </tr>\n",
       "    <tr>\n",
       "      <th>std</th>\n",
       "      <td>1.440012e+07</td>\n",
       "      <td>0.047742</td>\n",
       "      <td>0.095956</td>\n",
       "      <td>1.916437</td>\n",
       "      <td>0.869448</td>\n",
       "      <td>1.273564</td>\n",
       "      <td>3.692304e+06</td>\n",
       "      <td>0.962358</td>\n",
       "      <td>111.625202</td>\n",
       "      <td>1.165870</td>\n",
       "    </tr>\n",
       "    <tr>\n",
       "      <th>min</th>\n",
       "      <td>1.155100e+04</td>\n",
       "      <td>51.296850</td>\n",
       "      <td>-0.496160</td>\n",
       "      <td>0.000000</td>\n",
       "      <td>1.000000</td>\n",
       "      <td>0.000000</td>\n",
       "      <td>1.000000e+00</td>\n",
       "      <td>0.000000</td>\n",
       "      <td>1.000000</td>\n",
       "      <td>0.010000</td>\n",
       "    </tr>\n",
       "    <tr>\n",
       "      <th>25%</th>\n",
       "      <td>1.575397e+07</td>\n",
       "      <td>51.484330</td>\n",
       "      <td>-0.188410</td>\n",
       "      <td>2.000000</td>\n",
       "      <td>1.000000</td>\n",
       "      <td>1.000000</td>\n",
       "      <td>3.500000e+01</td>\n",
       "      <td>4.500000</td>\n",
       "      <td>1.000000</td>\n",
       "      <td>0.090000</td>\n",
       "    </tr>\n",
       "    <tr>\n",
       "      <th>50%</th>\n",
       "      <td>2.724552e+07</td>\n",
       "      <td>51.513990</td>\n",
       "      <td>-0.126230</td>\n",
       "      <td>2.000000</td>\n",
       "      <td>1.000000</td>\n",
       "      <td>1.000000</td>\n",
       "      <td>1.125000e+03</td>\n",
       "      <td>4.800000</td>\n",
       "      <td>1.000000</td>\n",
       "      <td>0.290000</td>\n",
       "    </tr>\n",
       "    <tr>\n",
       "      <th>75%</th>\n",
       "      <td>3.996368e+07</td>\n",
       "      <td>51.539470</td>\n",
       "      <td>-0.069657</td>\n",
       "      <td>4.000000</td>\n",
       "      <td>2.000000</td>\n",
       "      <td>2.000000</td>\n",
       "      <td>1.125000e+03</td>\n",
       "      <td>5.000000</td>\n",
       "      <td>4.000000</td>\n",
       "      <td>0.790000</td>\n",
       "    </tr>\n",
       "    <tr>\n",
       "      <th>max</th>\n",
       "      <td>5.086939e+07</td>\n",
       "      <td>51.679830</td>\n",
       "      <td>0.288570</td>\n",
       "      <td>16.000000</td>\n",
       "      <td>22.000000</td>\n",
       "      <td>38.000000</td>\n",
       "      <td>1.000000e+09</td>\n",
       "      <td>5.000000</td>\n",
       "      <td>861.000000</td>\n",
       "      <td>67.000000</td>\n",
       "    </tr>\n",
       "  </tbody>\n",
       "</table>\n",
       "</div>"
      ],
      "text/plain": [
       "                 id      latitude     longitude  accommodates      bedrooms  \\\n",
       "count  7.336400e+04  73364.000000  73364.000000  73364.000000  68712.000000   \n",
       "mean   2.728494e+07     51.509863     -0.128646      3.002276      1.481080   \n",
       "std    1.440012e+07      0.047742      0.095956      1.916437      0.869448   \n",
       "min    1.155100e+04     51.296850     -0.496160      0.000000      1.000000   \n",
       "25%    1.575397e+07     51.484330     -0.188410      2.000000      1.000000   \n",
       "50%    2.724552e+07     51.513990     -0.126230      2.000000      1.000000   \n",
       "75%    3.996368e+07     51.539470     -0.069657      4.000000      2.000000   \n",
       "max    5.086939e+07     51.679830      0.288570     16.000000     22.000000   \n",
       "\n",
       "               beds  maximum_nights  review_scores_rating  \\\n",
       "count  72143.000000    7.336400e+04          50786.000000   \n",
       "mean       1.684280    1.455693e+04              4.513564   \n",
       "std        1.273564    3.692304e+06              0.962358   \n",
       "min        0.000000    1.000000e+00              0.000000   \n",
       "25%        1.000000    3.500000e+01              4.500000   \n",
       "50%        1.000000    1.125000e+03              4.800000   \n",
       "75%        2.000000    1.125000e+03              5.000000   \n",
       "max       38.000000    1.000000e+09              5.000000   \n",
       "\n",
       "       calculated_host_listings_count  reviews_per_month  \n",
       "count                    73364.000000       50786.000000  \n",
       "mean                        28.106128           0.632481  \n",
       "std                        111.625202           1.165870  \n",
       "min                          1.000000           0.010000  \n",
       "25%                          1.000000           0.090000  \n",
       "50%                          1.000000           0.290000  \n",
       "75%                          4.000000           0.790000  \n",
       "max                        861.000000          67.000000  "
      ]
     },
     "execution_count": 8,
     "metadata": {},
     "output_type": "execute_result"
    }
   ],
   "source": [
    "df.describe()"
   ]
  },
  {
   "cell_type": "markdown",
   "metadata": {},
   "source": [
    "## Price Column"
   ]
  },
  {
   "cell_type": "code",
   "execution_count": 9,
   "metadata": {},
   "outputs": [
    {
     "data": {
      "text/plain": [
       "0"
      ]
     },
     "execution_count": 9,
     "metadata": {},
     "output_type": "execute_result"
    }
   ],
   "source": [
    "df[\"price\"].isnull().sum()"
   ]
  },
  {
   "cell_type": "code",
   "execution_count": 10,
   "metadata": {},
   "outputs": [
    {
     "data": {
      "text/plain": [
       "0         $99.00\n",
       "1         $65.00\n",
       "2         $75.00\n",
       "3        $307.00\n",
       "4        $150.00\n",
       "          ...   \n",
       "73359    $276.00\n",
       "73360    $117.00\n",
       "73361     $48.00\n",
       "73362     $56.00\n",
       "73363     $32.00\n",
       "Name: price, Length: 73364, dtype: object"
      ]
     },
     "execution_count": 10,
     "metadata": {},
     "output_type": "execute_result"
    }
   ],
   "source": [
    "df[\"price\"]"
   ]
  },
  {
   "cell_type": "code",
   "execution_count": 11,
   "metadata": {},
   "outputs": [
    {
     "name": "stderr",
     "output_type": "stream",
     "text": [
      "C:\\Users\\2192a\\anaconda3\\lib\\site-packages\\pandas\\core\\indexing.py:670: SettingWithCopyWarning: \n",
      "A value is trying to be set on a copy of a slice from a DataFrame\n",
      "\n",
      "See the caveats in the documentation: https://pandas.pydata.org/pandas-docs/stable/user_guide/indexing.html#returning-a-view-versus-a-copy\n",
      "  iloc._setitem_with_indexer(indexer, value)\n"
     ]
    }
   ],
   "source": [
    "for i in range(len(df)):\n",
    "    df[\"price\"].iloc[i]=df[\"price\"].iloc[i][1:]"
   ]
  },
  {
   "cell_type": "code",
   "execution_count": 12,
   "metadata": {},
   "outputs": [],
   "source": [
    "a=df.price.str.extract('(^\\d*)')"
   ]
  },
  {
   "cell_type": "code",
   "execution_count": 13,
   "metadata": {},
   "outputs": [],
   "source": [
    "df[\"price\"]=a"
   ]
  },
  {
   "cell_type": "code",
   "execution_count": 14,
   "metadata": {},
   "outputs": [],
   "source": [
    "df[\"price\"]=df[\"price\"].astype(float)"
   ]
  },
  {
   "cell_type": "code",
   "execution_count": 15,
   "metadata": {},
   "outputs": [],
   "source": [
    "df = df[(df['price'] < 300)]"
   ]
  },
  {
   "cell_type": "markdown",
   "metadata": {},
   "source": [
    "Updated Displot After Removal Of Outliers"
   ]
  },
  {
   "cell_type": "code",
   "execution_count": 16,
   "metadata": {},
   "outputs": [
    {
     "data": {
      "text/plain": [
       "<AxesSubplot:xlabel='price'>"
      ]
     },
     "execution_count": 16,
     "metadata": {},
     "output_type": "execute_result"
    },
    {
     "data": {
      "image/png": "[encoded data removed]",
      "text/plain": [
       "<Figure size 432x288 with 1 Axes>"
      ]
     },
     "metadata": {
      "needs_background": "light"
     },
     "output_type": "display_data"
    }
   ],
   "source": [
    "sns.boxplot(x=\"price\",data=df)"
   ]
  },
  {
   "cell_type": "code",
   "execution_count": 17,
   "metadata": {},
   "outputs": [
    {
     "data": {
      "text/plain": [
       "<seaborn.axisgrid.FacetGrid at 0x1f4b956dd30>"
      ]
     },
     "execution_count": 17,
     "metadata": {},
     "output_type": "execute_result"
    },
    {
     "data": {
      "image/png": "[encoded data removed]",
      "text/plain": [
       "<Figure size 360x360 with 1 Axes>"
      ]
     },
     "metadata": {
      "needs_background": "light"
     },
     "output_type": "display_data"
    }
   ],
   "source": [
    "sns.displot(data=df,x=\"price\",kde=True)"
   ]
  },
  {
   "cell_type": "markdown",
   "metadata": {},
   "source": [
    "## Bathrooms"
   ]
  },
  {
   "cell_type": "code",
   "execution_count": 18,
   "metadata": {},
   "outputs": [],
   "source": [
    "df[\"bathrooms_text\"].fillna(value=\"1\",inplace=True)"
   ]
  },
  {
   "cell_type": "code",
   "execution_count": 19,
   "metadata": {},
   "outputs": [
    {
     "data": {
      "text/plain": [
       "array(['1 bath', '1 shared bath', '1 private bath', '1.5 shared baths',\n",
       "       '1.5 baths', '0 shared baths', '1', '2 baths', '2.5 shared baths',\n",
       "       '2 shared baths', 'Shared half-bath', '2.5 baths', '4 baths',\n",
       "       '3 baths', '0 baths', '3 shared baths', 'Half-bath', '5 baths',\n",
       "       '3.5 baths', '5 shared baths', '3.5 shared baths',\n",
       "       'Private half-bath', '4 shared baths', '4.5 baths', '6 baths',\n",
       "       '6 shared baths', '8.5 baths', '7 shared baths', '7 baths',\n",
       "       '6.5 baths', '8 shared baths', '17 baths', '10 baths', '5.5 baths',\n",
       "       '8 baths', '10.5 baths', '4.5 shared baths', '9 shared baths',\n",
       "       '6.5 shared baths', '10 shared baths', '18 shared baths',\n",
       "       '12 baths'], dtype=object)"
      ]
     },
     "execution_count": 19,
     "metadata": {},
     "output_type": "execute_result"
    }
   ],
   "source": [
    "df[\"bathrooms_text\"].unique()"
   ]
  },
  {
   "cell_type": "code",
   "execution_count": 20,
   "metadata": {},
   "outputs": [
    {
     "name": "stderr",
     "output_type": "stream",
     "text": [
      "C:\\Users\\2192a\\anaconda3\\lib\\site-packages\\pandas\\core\\indexing.py:670: SettingWithCopyWarning: \n",
      "A value is trying to be set on a copy of a slice from a DataFrame\n",
      "\n",
      "See the caveats in the documentation: https://pandas.pydata.org/pandas-docs/stable/user_guide/indexing.html#returning-a-view-versus-a-copy\n",
      "  iloc._setitem_with_indexer(indexer, value)\n"
     ]
    }
   ],
   "source": [
    "for i in range(len(df)):\n",
    "    if df[\"bathrooms_text\"].iloc[i]==\"Private half-bath\":\n",
    "        df[\"bathrooms_text\"].iloc[i]=\"1\"\n",
    "    elif df[\"bathrooms_text\"].iloc[i]==\"Half-bath\":\n",
    "        df[\"bathrooms_text\"].iloc[i]=\"1\"\n",
    "    elif df[\"bathrooms_text\"].iloc[i]==\"Shared half-bath\":\n",
    "        df[\"bathrooms_text\"].iloc[i]=\"1\"\n",
    "    else:\n",
    "        df[\"bathrooms_text\"].iloc[i]=df[\"bathrooms_text\"].iloc[i][0]      "
   ]
  },
  {
   "cell_type": "code",
   "execution_count": 21,
   "metadata": {},
   "outputs": [],
   "source": [
    "df[\"bathrooms\"]=df[\"bathrooms_text\"].astype(float)"
   ]
  },
  {
   "cell_type": "code",
   "execution_count": 22,
   "metadata": {},
   "outputs": [],
   "source": [
    "df.drop(columns=\"bathrooms_text\",inplace=True)"
   ]
  },
  {
   "cell_type": "markdown",
   "metadata": {},
   "source": [
    "##  has_availability Column"
   ]
  },
  {
   "cell_type": "code",
   "execution_count": 23,
   "metadata": {},
   "outputs": [
    {
     "data": {
      "text/plain": [
       "0"
      ]
     },
     "execution_count": 23,
     "metadata": {},
     "output_type": "execute_result"
    }
   ],
   "source": [
    "df[\"has_availability\"].isnull().sum()"
   ]
  },
  {
   "cell_type": "markdown",
   "metadata": {},
   "source": [
    "No Null Values"
   ]
  },
  {
   "cell_type": "markdown",
   "metadata": {},
   "source": [
    "Encoding Based On Mean Price"
   ]
  },
  {
   "cell_type": "code",
   "execution_count": 24,
   "metadata": {},
   "outputs": [
    {
     "data": {
      "text/plain": [
       "array(['t', 'f'], dtype=object)"
      ]
     },
     "execution_count": 24,
     "metadata": {},
     "output_type": "execute_result"
    }
   ],
   "source": [
    "df[\"has_availability\"].unique()"
   ]
  },
  {
   "cell_type": "code",
   "execution_count": 25,
   "metadata": {},
   "outputs": [
    {
     "name": "stdout",
     "output_type": "stream",
     "text": [
      "87.2987346226595\n",
      "76.66993464052288\n"
     ]
    }
   ],
   "source": [
    "c=0\n",
    "d=0\n",
    "e=0\n",
    "f=0\n",
    "for i in range(len(df)):\n",
    "    if df[\"has_availability\"].iloc[i]==\"t\":\n",
    "        c=c+1\n",
    "        e=e+df[\"price\"].iloc[i]\n",
    "    else:\n",
    "        d=d+1\n",
    "        f=f+df[\"price\"].iloc[i]\n",
    "\n",
    "print(e/c)\n",
    "print(f/d)"
   ]
  },
  {
   "cell_type": "code",
   "execution_count": 26,
   "metadata": {},
   "outputs": [],
   "source": [
    "for i in range(len(df)):\n",
    "    if df[\"has_availability\"].iloc[i]==\"t\":\n",
    "        df[\"has_availability\"].iloc[i]=int(1)\n",
    "    else:\n",
    "        df[\"has_availability\"].iloc[i]=int(0)"
   ]
  },
  {
   "cell_type": "markdown",
   "metadata": {},
   "source": [
    "## Number Of Reviews Per Month"
   ]
  },
  {
   "cell_type": "code",
   "execution_count": 27,
   "metadata": {},
   "outputs": [
    {
     "data": {
      "text/plain": [
       "20567"
      ]
     },
     "execution_count": 27,
     "metadata": {},
     "output_type": "execute_result"
    }
   ],
   "source": [
    "df[\"reviews_per_month\"].isnull().sum()"
   ]
  },
  {
   "cell_type": "markdown",
   "metadata": {},
   "source": [
    "Fixing The Null Values With Column Median"
   ]
  },
  {
   "cell_type": "code",
   "execution_count": 28,
   "metadata": {},
   "outputs": [],
   "source": [
    "mean_value=df['reviews_per_month'].mean()\n",
    "df[\"reviews_per_month\"]=df[\"reviews_per_month\"].fillna(value=mean_value)"
   ]
  },
  {
   "cell_type": "markdown",
   "metadata": {},
   "source": [
    "## Bedrooms"
   ]
  },
  {
   "cell_type": "code",
   "execution_count": 29,
   "metadata": {},
   "outputs": [
    {
     "data": {
      "text/plain": [
       "4561"
      ]
     },
     "execution_count": 29,
     "metadata": {},
     "output_type": "execute_result"
    }
   ],
   "source": [
    "df[\"bedrooms\"].isnull().sum()"
   ]
  },
  {
   "cell_type": "code",
   "execution_count": 30,
   "metadata": {},
   "outputs": [],
   "source": [
    "df[\"bedrooms\"]=df[\"bedrooms\"].fillna(value=int(1))"
   ]
  },
  {
   "cell_type": "code",
   "execution_count": 31,
   "metadata": {},
   "outputs": [
    {
     "data": {
      "text/plain": [
       "<seaborn.axisgrid.FacetGrid at 0x1f4c95d3c70>"
      ]
     },
     "execution_count": 31,
     "metadata": {},
     "output_type": "execute_result"
    },
    {
     "data": {
      "image/png": "[encoded data removed]",
      "text/plain": [
       "<Figure size 360x360 with 1 Axes>"
      ]
     },
     "metadata": {
      "needs_background": "light"
     },
     "output_type": "display_data"
    }
   ],
   "source": [
    "sns.displot(data=df,x=\"bedrooms\",kde=True)"
   ]
  },
  {
   "cell_type": "markdown",
   "metadata": {},
   "source": [
    "## room_type"
   ]
  },
  {
   "cell_type": "code",
   "execution_count": 32,
   "metadata": {},
   "outputs": [
    {
     "data": {
      "text/plain": [
       "array(['Entire home/apt', 'Private room', 'Hotel room', 'Shared room'],\n",
       "      dtype=object)"
      ]
     },
     "execution_count": 32,
     "metadata": {},
     "output_type": "execute_result"
    }
   ],
   "source": [
    "df[\"room_type\"].unique()"
   ]
  },
  {
   "cell_type": "code",
   "execution_count": 33,
   "metadata": {},
   "outputs": [
    {
     "data": {
      "text/plain": [
       "0"
      ]
     },
     "execution_count": 33,
     "metadata": {},
     "output_type": "execute_result"
    }
   ],
   "source": [
    "df[\"room_type\"].isnull().sum()"
   ]
  },
  {
   "cell_type": "code",
   "execution_count": 34,
   "metadata": {},
   "outputs": [
    {
     "name": "stdout",
     "output_type": "stream",
     "text": [
      "120.04748603351955\n",
      "50.43476223208148\n",
      "106.51449275362319\n",
      "46.68207024029575\n"
     ]
    }
   ],
   "source": [
    "a=0\n",
    "b=0\n",
    "c=0\n",
    "d=0\n",
    "e=0\n",
    "f=0\n",
    "g=0\n",
    "h=0\n",
    "for i in range(len(df)):\n",
    "    if df[\"room_type\"].iloc[i]==\"Entire home/apt\":\n",
    "        a=a+1\n",
    "        e=e+df[\"price\"].iloc[i]\n",
    "    elif df[\"room_type\"].iloc[i]==\"Private room\":\n",
    "        b=b+1\n",
    "        f=f+df[\"price\"].iloc[i]\n",
    "    elif df[\"room_type\"].iloc[i]==\"Hotel room\":\n",
    "        c=c+1\n",
    "        g=g+df[\"price\"].iloc[i]\n",
    "    else:\n",
    "        d=d+1\n",
    "        h=h+df[\"price\"].iloc[i]\n",
    "\n",
    "print(e/a)\n",
    "print(f/b)\n",
    "print(g/c)\n",
    "print(h/d)"
   ]
  },
  {
   "cell_type": "markdown",
   "metadata": {},
   "source": [
    "Entire Home/Apt - 120\n",
    "Private room - 50.43\n",
    "Hotel room - 106.5\n",
    "Shared room - 46.68"
   ]
  },
  {
   "cell_type": "code",
   "execution_count": 35,
   "metadata": {},
   "outputs": [
    {
     "name": "stderr",
     "output_type": "stream",
     "text": [
      "C:\\Users\\2192a\\anaconda3\\lib\\site-packages\\pandas\\core\\indexing.py:670: SettingWithCopyWarning: \n",
      "A value is trying to be set on a copy of a slice from a DataFrame\n",
      "\n",
      "See the caveats in the documentation: https://pandas.pydata.org/pandas-docs/stable/user_guide/indexing.html#returning-a-view-versus-a-copy\n",
      "  iloc._setitem_with_indexer(indexer, value)\n"
     ]
    }
   ],
   "source": [
    "for i in range(len(df)):\n",
    "    if df[\"room_type\"].iloc[i]==\"Shared room\":\n",
    "        df[\"room_type\"].iloc[i]=int(0)\n",
    "    elif df[\"room_type\"].iloc[i]==\"Private room\":\n",
    "        df[\"room_type\"].iloc[i]=int(1)\n",
    "    elif df[\"room_type\"].iloc[i]==\"Hotel room\":\n",
    "        df[\"room_type\"].iloc[i]=int(2)\n",
    "    else:\n",
    "        df[\"room_type\"].iloc[i]=int(3)"
   ]
  },
  {
   "cell_type": "markdown",
   "metadata": {},
   "source": [
    "## Neighbourhood"
   ]
  },
  {
   "cell_type": "code",
   "execution_count": 36,
   "metadata": {},
   "outputs": [
    {
     "data": {
      "text/plain": [
       "array(['Lambeth', 'Islington', 'Kensington and Chelsea',\n",
       "       'Hammersmith and Fulham', 'Barnet', 'Hounslow',\n",
       "       'Richmond upon Thames', 'Haringey', 'Southwark', 'Croydon',\n",
       "       'Westminster', 'Waltham Forest', 'Brent', 'Camden', 'Newham',\n",
       "       'Tower Hamlets', 'Redbridge', 'Hackney', 'Merton', 'Lewisham',\n",
       "       'Wandsworth', 'Bromley', 'Havering', 'Greenwich', 'Ealing',\n",
       "       'Enfield', 'City of London', 'Barking and Dagenham', 'Hillingdon',\n",
       "       'Harrow', 'Kingston upon Thames', 'Bexley', 'Sutton'], dtype=object)"
      ]
     },
     "execution_count": 36,
     "metadata": {},
     "output_type": "execute_result"
    }
   ],
   "source": [
    "df[\"neighbourhood_cleansed\"].unique()"
   ]
  },
  {
   "cell_type": "code",
   "execution_count": 39,
   "metadata": {},
   "outputs": [
    {
     "name": "stderr",
     "output_type": "stream",
     "text": [
      "C:\\Users\\2192a\\anaconda3\\lib\\site-packages\\category_encoders\\utils.py:21: FutureWarning: is_categorical is deprecated and will be removed in a future version.  Use is_categorical_dtype instead\n",
      "  elif pd.api.types.is_categorical(cols):\n"
     ]
    }
   ],
   "source": [
    "import category_encoders as ce\n",
    "encoder=ce.TargetEncoder(cols='neighbourhood_cleansed')\n",
    "df[\"neighbourhood_cleansed\"]=encoder.fit_transform(df['neighbourhood_cleansed'],df['price'])"
   ]
  },
  {
   "cell_type": "markdown",
   "metadata": {},
   "source": [
    "## beds"
   ]
  },
  {
   "cell_type": "code",
   "execution_count": 40,
   "metadata": {},
   "outputs": [
    {
     "data": {
      "text/plain": [
       "1193"
      ]
     },
     "execution_count": 40,
     "metadata": {},
     "output_type": "execute_result"
    }
   ],
   "source": [
    "df[\"beds\"].isnull().sum()"
   ]
  },
  {
   "cell_type": "code",
   "execution_count": 41,
   "metadata": {},
   "outputs": [],
   "source": [
    "df[\"beds\"]=df[\"beds\"].fillna(value=int(0))"
   ]
  },
  {
   "cell_type": "markdown",
   "metadata": {},
   "source": [
    "## Review Scores Rating"
   ]
  },
  {
   "cell_type": "code",
   "execution_count": 42,
   "metadata": {},
   "outputs": [
    {
     "data": {
      "text/plain": [
       "20567"
      ]
     },
     "execution_count": 42,
     "metadata": {},
     "output_type": "execute_result"
    }
   ],
   "source": [
    "df[\"review_scores_rating\"].isnull().sum()"
   ]
  },
  {
   "cell_type": "code",
   "execution_count": 43,
   "metadata": {},
   "outputs": [],
   "source": [
    "mean_value=df['review_scores_rating'].mean()\n",
    "df[\"review_scores_rating\"]=df[\"review_scores_rating\"].fillna(value=mean_value)"
   ]
  },
  {
   "cell_type": "code",
   "execution_count": 44,
   "metadata": {},
   "outputs": [
    {
     "data": {
      "text/html": [
       "<div>\n",
       "<style scoped>\n",
       "    .dataframe tbody tr th:only-of-type {\n",
       "        vertical-align: middle;\n",
       "    }\n",
       "\n",
       "    .dataframe tbody tr th {\n",
       "        vertical-align: top;\n",
       "    }\n",
       "\n",
       "    .dataframe thead th {\n",
       "        text-align: right;\n",
       "    }\n",
       "</style>\n",
       "<table border=\"1\" class=\"dataframe\">\n",
       "  <thead>\n",
       "    <tr style=\"text-align: right;\">\n",
       "      <th></th>\n",
       "      <th>id</th>\n",
       "      <th>neighbourhood_cleansed</th>\n",
       "      <th>latitude</th>\n",
       "      <th>longitude</th>\n",
       "      <th>room_type</th>\n",
       "      <th>accommodates</th>\n",
       "      <th>bedrooms</th>\n",
       "      <th>beds</th>\n",
       "      <th>price</th>\n",
       "      <th>maximum_nights</th>\n",
       "      <th>has_availability</th>\n",
       "      <th>review_scores_rating</th>\n",
       "      <th>calculated_host_listings_count</th>\n",
       "      <th>reviews_per_month</th>\n",
       "      <th>bathrooms</th>\n",
       "    </tr>\n",
       "  </thead>\n",
       "  <tbody>\n",
       "    <tr>\n",
       "      <th>0</th>\n",
       "      <td>11551</td>\n",
       "      <td>79.378683</td>\n",
       "      <td>51.46095</td>\n",
       "      <td>-0.11758</td>\n",
       "      <td>3</td>\n",
       "      <td>4</td>\n",
       "      <td>1.0</td>\n",
       "      <td>3.0</td>\n",
       "      <td>99.0</td>\n",
       "      <td>1125</td>\n",
       "      <td>1</td>\n",
       "      <td>4.57</td>\n",
       "      <td>3</td>\n",
       "      <td>1.63</td>\n",
       "      <td>1.0</td>\n",
       "    </tr>\n",
       "    <tr>\n",
       "      <th>1</th>\n",
       "      <td>13913</td>\n",
       "      <td>88.411969</td>\n",
       "      <td>51.56861</td>\n",
       "      <td>-0.11270</td>\n",
       "      <td>1</td>\n",
       "      <td>2</td>\n",
       "      <td>1.0</td>\n",
       "      <td>0.0</td>\n",
       "      <td>65.0</td>\n",
       "      <td>29</td>\n",
       "      <td>1</td>\n",
       "      <td>4.85</td>\n",
       "      <td>2</td>\n",
       "      <td>0.17</td>\n",
       "      <td>1.0</td>\n",
       "    </tr>\n",
       "    <tr>\n",
       "      <th>2</th>\n",
       "      <td>15400</td>\n",
       "      <td>123.705444</td>\n",
       "      <td>51.48780</td>\n",
       "      <td>-0.16813</td>\n",
       "      <td>3</td>\n",
       "      <td>2</td>\n",
       "      <td>1.0</td>\n",
       "      <td>1.0</td>\n",
       "      <td>75.0</td>\n",
       "      <td>50</td>\n",
       "      <td>1</td>\n",
       "      <td>4.79</td>\n",
       "      <td>1</td>\n",
       "      <td>0.81</td>\n",
       "      <td>1.0</td>\n",
       "    </tr>\n",
       "  </tbody>\n",
       "</table>\n",
       "</div>"
      ],
      "text/plain": [
       "      id  neighbourhood_cleansed  latitude  longitude room_type  accommodates  \\\n",
       "0  11551               79.378683  51.46095   -0.11758         3             4   \n",
       "1  13913               88.411969  51.56861   -0.11270         1             2   \n",
       "2  15400              123.705444  51.48780   -0.16813         3             2   \n",
       "\n",
       "   bedrooms  beds  price  maximum_nights has_availability  \\\n",
       "0       1.0   3.0   99.0            1125                1   \n",
       "1       1.0   0.0   65.0              29                1   \n",
       "2       1.0   1.0   75.0              50                1   \n",
       "\n",
       "   review_scores_rating  calculated_host_listings_count  reviews_per_month  \\\n",
       "0                  4.57                               3               1.63   \n",
       "1                  4.85                               2               0.17   \n",
       "2                  4.79                               1               0.81   \n",
       "\n",
       "   bathrooms  \n",
       "0        1.0  \n",
       "1        1.0  \n",
       "2        1.0  "
      ]
     },
     "execution_count": 44,
     "metadata": {},
     "output_type": "execute_result"
    }
   ],
   "source": [
    "df[0:3]"
   ]
  },
  {
   "cell_type": "markdown",
   "metadata": {},
   "source": [
    "## Accomodates"
   ]
  },
  {
   "cell_type": "code",
   "execution_count": 45,
   "metadata": {},
   "outputs": [
    {
     "data": {
      "text/plain": [
       "<seaborn.axisgrid.FacetGrid at 0x1f4b91d8610>"
      ]
     },
     "execution_count": 45,
     "metadata": {},
     "output_type": "execute_result"
    },
    {
     "data": {
      "image/png": "[encoded data removed]",
      "text/plain": [
       "<Figure size 360x360 with 1 Axes>"
      ]
     },
     "metadata": {
      "needs_background": "light"
     },
     "output_type": "display_data"
    }
   ],
   "source": [
    "sns.displot(data=df,x=\"accommodates\",kde=True)"
   ]
  },
  {
   "cell_type": "code",
   "execution_count": 46,
   "metadata": {},
   "outputs": [
    {
     "data": {
      "text/plain": [
       "<AxesSubplot:xlabel='accommodates'>"
      ]
     },
     "execution_count": 46,
     "metadata": {},
     "output_type": "execute_result"
    },
    {
     "data": {
      "image/png": "[encoded data removed]",
      "text/plain": [
       "<Figure size 432x288 with 1 Axes>"
      ]
     },
     "metadata": {
      "needs_background": "light"
     },
     "output_type": "display_data"
    }
   ],
   "source": [
    "sns.boxplot(data=df,x=\"accommodates\")"
   ]
  },
  {
   "cell_type": "markdown",
   "metadata": {},
   "source": [
    "## Calculated Host Listings "
   ]
  },
  {
   "cell_type": "code",
   "execution_count": 47,
   "metadata": {},
   "outputs": [
    {
     "data": {
      "text/plain": [
       "<seaborn.axisgrid.FacetGrid at 0x1f4b91e43a0>"
      ]
     },
     "execution_count": 47,
     "metadata": {},
     "output_type": "execute_result"
    },
    {
     "data": {
      "image/png": "[encoded data removed]",
      "text/plain": [
       "<Figure size 360x360 with 1 Axes>"
      ]
     },
     "metadata": {
      "needs_background": "light"
     },
     "output_type": "display_data"
    }
   ],
   "source": [
    "sns.displot(data=df,x=\"calculated_host_listings_count\",kde=True)"
   ]
  },
  {
   "cell_type": "code",
   "execution_count": 48,
   "metadata": {},
   "outputs": [
    {
     "data": {
      "text/plain": [
       "<AxesSubplot:xlabel='calculated_host_listings_count'>"
      ]
     },
     "execution_count": 48,
     "metadata": {},
     "output_type": "execute_result"
    },
    {
     "data": {
      "image/png": "[encoded data removed]",
      "text/plain": [
       "<Figure size 432x288 with 1 Axes>"
      ]
     },
     "metadata": {
      "needs_background": "light"
     },
     "output_type": "display_data"
    }
   ],
   "source": [
    "sns.boxplot(data=df,x=\"calculated_host_listings_count\")"
   ]
  },
  {
   "cell_type": "code",
   "execution_count": 49,
   "metadata": {},
   "outputs": [],
   "source": [
    "df = df[(df['calculated_host_listings_count'] < 100)]"
   ]
  },
  {
   "cell_type": "markdown",
   "metadata": {},
   "source": [
    "# Model Building And Scaling"
   ]
  },
  {
   "cell_type": "code",
   "execution_count": 50,
   "metadata": {},
   "outputs": [
    {
     "name": "stdout",
     "output_type": "stream",
     "text": [
      "<class 'pandas.core.frame.DataFrame'>\n",
      "Int64Index: 65695 entries, 0 to 73363\n",
      "Data columns (total 15 columns):\n",
      " #   Column                          Non-Null Count  Dtype  \n",
      "---  ------                          --------------  -----  \n",
      " 0   id                              65695 non-null  int64  \n",
      " 1   neighbourhood_cleansed          65695 non-null  float64\n",
      " 2   latitude                        65695 non-null  float64\n",
      " 3   longitude                       65695 non-null  float64\n",
      " 4   room_type                       65695 non-null  object \n",
      " 5   accommodates                    65695 non-null  int64  \n",
      " 6   bedrooms                        65695 non-null  float64\n",
      " 7   beds                            65695 non-null  float64\n",
      " 8   price                           65695 non-null  float64\n",
      " 9   maximum_nights                  65695 non-null  int64  \n",
      " 10  has_availability                65695 non-null  object \n",
      " 11  review_scores_rating            65695 non-null  float64\n",
      " 12  calculated_host_listings_count  65695 non-null  int64  \n",
      " 13  reviews_per_month               65695 non-null  float64\n",
      " 14  bathrooms                       65695 non-null  float64\n",
      "dtypes: float64(9), int64(4), object(2)\n",
      "memory usage: 8.0+ MB\n"
     ]
    }
   ],
   "source": [
    "df.info()"
   ]
  },
  {
   "cell_type": "code",
   "execution_count": 51,
   "metadata": {},
   "outputs": [],
   "source": [
    "df[\"room_type\"]=df[\"room_type\"].astype(float)"
   ]
  },
  {
   "cell_type": "code",
   "execution_count": 52,
   "metadata": {},
   "outputs": [],
   "source": [
    "df[\"has_availability\"]=df[\"has_availability\"].astype(float)"
   ]
  },
  {
   "cell_type": "code",
   "execution_count": 53,
   "metadata": {},
   "outputs": [
    {
     "data": {
      "text/html": [
       "<div>\n",
       "<style scoped>\n",
       "    .dataframe tbody tr th:only-of-type {\n",
       "        vertical-align: middle;\n",
       "    }\n",
       "\n",
       "    .dataframe tbody tr th {\n",
       "        vertical-align: top;\n",
       "    }\n",
       "\n",
       "    .dataframe thead th {\n",
       "        text-align: right;\n",
       "    }\n",
       "</style>\n",
       "<table border=\"1\" class=\"dataframe\">\n",
       "  <thead>\n",
       "    <tr style=\"text-align: right;\">\n",
       "      <th></th>\n",
       "      <th>id</th>\n",
       "      <th>neighbourhood_cleansed</th>\n",
       "      <th>latitude</th>\n",
       "      <th>longitude</th>\n",
       "      <th>room_type</th>\n",
       "      <th>accommodates</th>\n",
       "      <th>bedrooms</th>\n",
       "      <th>beds</th>\n",
       "      <th>price</th>\n",
       "      <th>maximum_nights</th>\n",
       "      <th>has_availability</th>\n",
       "      <th>review_scores_rating</th>\n",
       "      <th>calculated_host_listings_count</th>\n",
       "      <th>reviews_per_month</th>\n",
       "      <th>bathrooms</th>\n",
       "    </tr>\n",
       "  </thead>\n",
       "  <tbody>\n",
       "    <tr>\n",
       "      <th>0</th>\n",
       "      <td>11551</td>\n",
       "      <td>79.378683</td>\n",
       "      <td>51.460950</td>\n",
       "      <td>-0.117580</td>\n",
       "      <td>3.0</td>\n",
       "      <td>4</td>\n",
       "      <td>1.0</td>\n",
       "      <td>3.0</td>\n",
       "      <td>99.0</td>\n",
       "      <td>1125</td>\n",
       "      <td>1.0</td>\n",
       "      <td>4.570000</td>\n",
       "      <td>3</td>\n",
       "      <td>1.630000</td>\n",
       "      <td>1.0</td>\n",
       "    </tr>\n",
       "    <tr>\n",
       "      <th>1</th>\n",
       "      <td>13913</td>\n",
       "      <td>88.411969</td>\n",
       "      <td>51.568610</td>\n",
       "      <td>-0.112700</td>\n",
       "      <td>1.0</td>\n",
       "      <td>2</td>\n",
       "      <td>1.0</td>\n",
       "      <td>0.0</td>\n",
       "      <td>65.0</td>\n",
       "      <td>29</td>\n",
       "      <td>1.0</td>\n",
       "      <td>4.850000</td>\n",
       "      <td>2</td>\n",
       "      <td>0.170000</td>\n",
       "      <td>1.0</td>\n",
       "    </tr>\n",
       "    <tr>\n",
       "      <th>2</th>\n",
       "      <td>15400</td>\n",
       "      <td>123.705444</td>\n",
       "      <td>51.487800</td>\n",
       "      <td>-0.168130</td>\n",
       "      <td>3.0</td>\n",
       "      <td>2</td>\n",
       "      <td>1.0</td>\n",
       "      <td>1.0</td>\n",
       "      <td>75.0</td>\n",
       "      <td>50</td>\n",
       "      <td>1.0</td>\n",
       "      <td>4.790000</td>\n",
       "      <td>1</td>\n",
       "      <td>0.810000</td>\n",
       "      <td>1.0</td>\n",
       "    </tr>\n",
       "    <tr>\n",
       "      <th>4</th>\n",
       "      <td>17506</td>\n",
       "      <td>94.863014</td>\n",
       "      <td>51.479350</td>\n",
       "      <td>-0.197430</td>\n",
       "      <td>1.0</td>\n",
       "      <td>2</td>\n",
       "      <td>1.0</td>\n",
       "      <td>1.0</td>\n",
       "      <td>150.0</td>\n",
       "      <td>21</td>\n",
       "      <td>1.0</td>\n",
       "      <td>4.513577</td>\n",
       "      <td>2</td>\n",
       "      <td>0.637941</td>\n",
       "      <td>1.0</td>\n",
       "    </tr>\n",
       "    <tr>\n",
       "      <th>5</th>\n",
       "      <td>25123</td>\n",
       "      <td>73.948243</td>\n",
       "      <td>51.574380</td>\n",
       "      <td>-0.210810</td>\n",
       "      <td>1.0</td>\n",
       "      <td>2</td>\n",
       "      <td>1.0</td>\n",
       "      <td>0.0</td>\n",
       "      <td>29.0</td>\n",
       "      <td>1120</td>\n",
       "      <td>1.0</td>\n",
       "      <td>4.780000</td>\n",
       "      <td>3</td>\n",
       "      <td>0.980000</td>\n",
       "      <td>1.0</td>\n",
       "    </tr>\n",
       "    <tr>\n",
       "      <th>...</th>\n",
       "      <td>...</td>\n",
       "      <td>...</td>\n",
       "      <td>...</td>\n",
       "      <td>...</td>\n",
       "      <td>...</td>\n",
       "      <td>...</td>\n",
       "      <td>...</td>\n",
       "      <td>...</td>\n",
       "      <td>...</td>\n",
       "      <td>...</td>\n",
       "      <td>...</td>\n",
       "      <td>...</td>\n",
       "      <td>...</td>\n",
       "      <td>...</td>\n",
       "      <td>...</td>\n",
       "    </tr>\n",
       "    <tr>\n",
       "      <th>73359</th>\n",
       "      <td>50866999</td>\n",
       "      <td>118.460762</td>\n",
       "      <td>51.517627</td>\n",
       "      <td>-0.148625</td>\n",
       "      <td>3.0</td>\n",
       "      <td>6</td>\n",
       "      <td>3.0</td>\n",
       "      <td>3.0</td>\n",
       "      <td>276.0</td>\n",
       "      <td>90</td>\n",
       "      <td>1.0</td>\n",
       "      <td>4.513577</td>\n",
       "      <td>9</td>\n",
       "      <td>0.637941</td>\n",
       "      <td>2.0</td>\n",
       "    </tr>\n",
       "    <tr>\n",
       "      <th>73360</th>\n",
       "      <td>50867160</td>\n",
       "      <td>100.236120</td>\n",
       "      <td>51.540537</td>\n",
       "      <td>-0.194614</td>\n",
       "      <td>3.0</td>\n",
       "      <td>4</td>\n",
       "      <td>2.0</td>\n",
       "      <td>2.0</td>\n",
       "      <td>117.0</td>\n",
       "      <td>30</td>\n",
       "      <td>1.0</td>\n",
       "      <td>4.513577</td>\n",
       "      <td>5</td>\n",
       "      <td>0.637941</td>\n",
       "      <td>2.0</td>\n",
       "    </tr>\n",
       "    <tr>\n",
       "      <th>73361</th>\n",
       "      <td>50867775</td>\n",
       "      <td>79.931695</td>\n",
       "      <td>51.554799</td>\n",
       "      <td>-0.073718</td>\n",
       "      <td>3.0</td>\n",
       "      <td>2</td>\n",
       "      <td>1.0</td>\n",
       "      <td>0.0</td>\n",
       "      <td>48.0</td>\n",
       "      <td>10</td>\n",
       "      <td>1.0</td>\n",
       "      <td>4.513577</td>\n",
       "      <td>2</td>\n",
       "      <td>0.637941</td>\n",
       "      <td>1.0</td>\n",
       "    </tr>\n",
       "    <tr>\n",
       "      <th>73362</th>\n",
       "      <td>50868408</td>\n",
       "      <td>79.931695</td>\n",
       "      <td>51.554562</td>\n",
       "      <td>-0.073245</td>\n",
       "      <td>3.0</td>\n",
       "      <td>2</td>\n",
       "      <td>1.0</td>\n",
       "      <td>0.0</td>\n",
       "      <td>56.0</td>\n",
       "      <td>1125</td>\n",
       "      <td>1.0</td>\n",
       "      <td>4.513577</td>\n",
       "      <td>2</td>\n",
       "      <td>0.637941</td>\n",
       "      <td>1.0</td>\n",
       "    </tr>\n",
       "    <tr>\n",
       "      <th>73363</th>\n",
       "      <td>50869388</td>\n",
       "      <td>94.863014</td>\n",
       "      <td>51.505210</td>\n",
       "      <td>-0.229986</td>\n",
       "      <td>1.0</td>\n",
       "      <td>1</td>\n",
       "      <td>1.0</td>\n",
       "      <td>0.0</td>\n",
       "      <td>32.0</td>\n",
       "      <td>1125</td>\n",
       "      <td>1.0</td>\n",
       "      <td>4.513577</td>\n",
       "      <td>10</td>\n",
       "      <td>0.637941</td>\n",
       "      <td>1.0</td>\n",
       "    </tr>\n",
       "  </tbody>\n",
       "</table>\n",
       "<p>65695 rows × 15 columns</p>\n",
       "</div>"
      ],
      "text/plain": [
       "             id  neighbourhood_cleansed   latitude  longitude  room_type  \\\n",
       "0         11551               79.378683  51.460950  -0.117580        3.0   \n",
       "1         13913               88.411969  51.568610  -0.112700        1.0   \n",
       "2         15400              123.705444  51.487800  -0.168130        3.0   \n",
       "4         17506               94.863014  51.479350  -0.197430        1.0   \n",
       "5         25123               73.948243  51.574380  -0.210810        1.0   \n",
       "...         ...                     ...        ...        ...        ...   \n",
       "73359  50866999              118.460762  51.517627  -0.148625        3.0   \n",
       "73360  50867160              100.236120  51.540537  -0.194614        3.0   \n",
       "73361  50867775               79.931695  51.554799  -0.073718        3.0   \n",
       "73362  50868408               79.931695  51.554562  -0.073245        3.0   \n",
       "73363  50869388               94.863014  51.505210  -0.229986        1.0   \n",
       "\n",
       "       accommodates  bedrooms  beds  price  maximum_nights  has_availability  \\\n",
       "0                 4       1.0   3.0   99.0            1125               1.0   \n",
       "1                 2       1.0   0.0   65.0              29               1.0   \n",
       "2                 2       1.0   1.0   75.0              50               1.0   \n",
       "4                 2       1.0   1.0  150.0              21               1.0   \n",
       "5                 2       1.0   0.0   29.0            1120               1.0   \n",
       "...             ...       ...   ...    ...             ...               ...   \n",
       "73359             6       3.0   3.0  276.0              90               1.0   \n",
       "73360             4       2.0   2.0  117.0              30               1.0   \n",
       "73361             2       1.0   0.0   48.0              10               1.0   \n",
       "73362             2       1.0   0.0   56.0            1125               1.0   \n",
       "73363             1       1.0   0.0   32.0            1125               1.0   \n",
       "\n",
       "       review_scores_rating  calculated_host_listings_count  \\\n",
       "0                  4.570000                               3   \n",
       "1                  4.850000                               2   \n",
       "2                  4.790000                               1   \n",
       "4                  4.513577                               2   \n",
       "5                  4.780000                               3   \n",
       "...                     ...                             ...   \n",
       "73359              4.513577                               9   \n",
       "73360              4.513577                               5   \n",
       "73361              4.513577                               2   \n",
       "73362              4.513577                               2   \n",
       "73363              4.513577                              10   \n",
       "\n",
       "       reviews_per_month  bathrooms  \n",
       "0               1.630000        1.0  \n",
       "1               0.170000        1.0  \n",
       "2               0.810000        1.0  \n",
       "4               0.637941        1.0  \n",
       "5               0.980000        1.0  \n",
       "...                  ...        ...  \n",
       "73359           0.637941        2.0  \n",
       "73360           0.637941        2.0  \n",
       "73361           0.637941        1.0  \n",
       "73362           0.637941        1.0  \n",
       "73363           0.637941        1.0  \n",
       "\n",
       "[65695 rows x 15 columns]"
      ]
     },
     "execution_count": 53,
     "metadata": {},
     "output_type": "execute_result"
    }
   ],
   "source": [
    "df"
   ]
  },
  {
   "cell_type": "code",
   "execution_count": 54,
   "metadata": {},
   "outputs": [],
   "source": [
    "df[\"review_scores_rating\"]=df[\"review_scores_rating\"].astype(float)"
   ]
  },
  {
   "cell_type": "code",
   "execution_count": 55,
   "metadata": {},
   "outputs": [],
   "source": [
    "df[\"reviews_per_month\"]=df[\"reviews_per_month\"].astype(float)"
   ]
  },
  {
   "cell_type": "code",
   "execution_count": 56,
   "metadata": {},
   "outputs": [
    {
     "data": {
      "text/html": [
       "<div>\n",
       "<style scoped>\n",
       "    .dataframe tbody tr th:only-of-type {\n",
       "        vertical-align: middle;\n",
       "    }\n",
       "\n",
       "    .dataframe tbody tr th {\n",
       "        vertical-align: top;\n",
       "    }\n",
       "\n",
       "    .dataframe thead th {\n",
       "        text-align: right;\n",
       "    }\n",
       "</style>\n",
       "<table border=\"1\" class=\"dataframe\">\n",
       "  <thead>\n",
       "    <tr style=\"text-align: right;\">\n",
       "      <th></th>\n",
       "      <th>id</th>\n",
       "      <th>neighbourhood_cleansed</th>\n",
       "      <th>latitude</th>\n",
       "      <th>longitude</th>\n",
       "      <th>room_type</th>\n",
       "      <th>accommodates</th>\n",
       "      <th>bedrooms</th>\n",
       "      <th>beds</th>\n",
       "      <th>price</th>\n",
       "      <th>maximum_nights</th>\n",
       "      <th>has_availability</th>\n",
       "      <th>review_scores_rating</th>\n",
       "      <th>calculated_host_listings_count</th>\n",
       "      <th>reviews_per_month</th>\n",
       "      <th>bathrooms</th>\n",
       "    </tr>\n",
       "  </thead>\n",
       "  <tbody>\n",
       "    <tr>\n",
       "      <th>id</th>\n",
       "      <td>1.000000</td>\n",
       "      <td>0.037677</td>\n",
       "      <td>-0.011257</td>\n",
       "      <td>-0.009605</td>\n",
       "      <td>0.048788</td>\n",
       "      <td>0.024699</td>\n",
       "      <td>0.004035</td>\n",
       "      <td>-0.007093</td>\n",
       "      <td>0.054321</td>\n",
       "      <td>-0.006087</td>\n",
       "      <td>0.015545</td>\n",
       "      <td>-0.017744</td>\n",
       "      <td>0.193011</td>\n",
       "      <td>0.046496</td>\n",
       "      <td>0.011237</td>\n",
       "    </tr>\n",
       "    <tr>\n",
       "      <th>neighbourhood_cleansed</th>\n",
       "      <td>0.037677</td>\n",
       "      <td>1.000000</td>\n",
       "      <td>-0.046838</td>\n",
       "      <td>-0.318345</td>\n",
       "      <td>0.209513</td>\n",
       "      <td>0.082926</td>\n",
       "      <td>0.002342</td>\n",
       "      <td>0.031645</td>\n",
       "      <td>0.313652</td>\n",
       "      <td>0.002843</td>\n",
       "      <td>0.015973</td>\n",
       "      <td>-0.003188</td>\n",
       "      <td>0.197289</td>\n",
       "      <td>0.064794</td>\n",
       "      <td>0.022647</td>\n",
       "    </tr>\n",
       "    <tr>\n",
       "      <th>latitude</th>\n",
       "      <td>-0.011257</td>\n",
       "      <td>-0.046838</td>\n",
       "      <td>1.000000</td>\n",
       "      <td>0.104669</td>\n",
       "      <td>0.000040</td>\n",
       "      <td>-0.002344</td>\n",
       "      <td>-0.014544</td>\n",
       "      <td>-0.007183</td>\n",
       "      <td>-0.016497</td>\n",
       "      <td>0.002955</td>\n",
       "      <td>0.004735</td>\n",
       "      <td>-0.005088</td>\n",
       "      <td>-0.004969</td>\n",
       "      <td>-0.010543</td>\n",
       "      <td>-0.000245</td>\n",
       "    </tr>\n",
       "    <tr>\n",
       "      <th>longitude</th>\n",
       "      <td>-0.009605</td>\n",
       "      <td>-0.318345</td>\n",
       "      <td>0.104669</td>\n",
       "      <td>1.000000</td>\n",
       "      <td>-0.052804</td>\n",
       "      <td>-0.020317</td>\n",
       "      <td>-0.018941</td>\n",
       "      <td>-0.019153</td>\n",
       "      <td>-0.090375</td>\n",
       "      <td>-0.002517</td>\n",
       "      <td>-0.001606</td>\n",
       "      <td>-0.004965</td>\n",
       "      <td>-0.060286</td>\n",
       "      <td>-0.037564</td>\n",
       "      <td>-0.017454</td>\n",
       "    </tr>\n",
       "    <tr>\n",
       "      <th>room_type</th>\n",
       "      <td>0.048788</td>\n",
       "      <td>0.209513</td>\n",
       "      <td>0.000040</td>\n",
       "      <td>-0.052804</td>\n",
       "      <td>1.000000</td>\n",
       "      <td>0.539342</td>\n",
       "      <td>0.404000</td>\n",
       "      <td>0.361266</td>\n",
       "      <td>0.593141</td>\n",
       "      <td>-0.004014</td>\n",
       "      <td>0.020130</td>\n",
       "      <td>0.042159</td>\n",
       "      <td>0.111060</td>\n",
       "      <td>-0.041928</td>\n",
       "      <td>0.150095</td>\n",
       "    </tr>\n",
       "    <tr>\n",
       "      <th>accommodates</th>\n",
       "      <td>0.024699</td>\n",
       "      <td>0.082926</td>\n",
       "      <td>-0.002344</td>\n",
       "      <td>-0.020317</td>\n",
       "      <td>0.539342</td>\n",
       "      <td>1.000000</td>\n",
       "      <td>0.760805</td>\n",
       "      <td>0.768301</td>\n",
       "      <td>0.575556</td>\n",
       "      <td>0.000321</td>\n",
       "      <td>0.010020</td>\n",
       "      <td>0.021780</td>\n",
       "      <td>0.098681</td>\n",
       "      <td>-0.013582</td>\n",
       "      <td>0.412303</td>\n",
       "    </tr>\n",
       "    <tr>\n",
       "      <th>bedrooms</th>\n",
       "      <td>0.004035</td>\n",
       "      <td>0.002342</td>\n",
       "      <td>-0.014544</td>\n",
       "      <td>-0.018941</td>\n",
       "      <td>0.404000</td>\n",
       "      <td>0.760805</td>\n",
       "      <td>1.000000</td>\n",
       "      <td>0.726516</td>\n",
       "      <td>0.488769</td>\n",
       "      <td>-0.001984</td>\n",
       "      <td>0.006277</td>\n",
       "      <td>0.021605</td>\n",
       "      <td>0.022716</td>\n",
       "      <td>-0.048313</td>\n",
       "      <td>0.494838</td>\n",
       "    </tr>\n",
       "    <tr>\n",
       "      <th>beds</th>\n",
       "      <td>-0.007093</td>\n",
       "      <td>0.031645</td>\n",
       "      <td>-0.007183</td>\n",
       "      <td>-0.019153</td>\n",
       "      <td>0.361266</td>\n",
       "      <td>0.768301</td>\n",
       "      <td>0.726516</td>\n",
       "      <td>1.000000</td>\n",
       "      <td>0.427029</td>\n",
       "      <td>-0.001909</td>\n",
       "      <td>0.009946</td>\n",
       "      <td>0.015437</td>\n",
       "      <td>0.069234</td>\n",
       "      <td>-0.015571</td>\n",
       "      <td>0.392680</td>\n",
       "    </tr>\n",
       "    <tr>\n",
       "      <th>price</th>\n",
       "      <td>0.054321</td>\n",
       "      <td>0.313652</td>\n",
       "      <td>-0.016497</td>\n",
       "      <td>-0.090375</td>\n",
       "      <td>0.593141</td>\n",
       "      <td>0.575556</td>\n",
       "      <td>0.488769</td>\n",
       "      <td>0.427029</td>\n",
       "      <td>1.000000</td>\n",
       "      <td>-0.003164</td>\n",
       "      <td>0.019599</td>\n",
       "      <td>0.038987</td>\n",
       "      <td>0.182175</td>\n",
       "      <td>-0.015782</td>\n",
       "      <td>0.278695</td>\n",
       "    </tr>\n",
       "    <tr>\n",
       "      <th>maximum_nights</th>\n",
       "      <td>-0.006087</td>\n",
       "      <td>0.002843</td>\n",
       "      <td>0.002955</td>\n",
       "      <td>-0.002517</td>\n",
       "      <td>-0.004014</td>\n",
       "      <td>0.000321</td>\n",
       "      <td>-0.001984</td>\n",
       "      <td>-0.001909</td>\n",
       "      <td>-0.003164</td>\n",
       "      <td>1.000000</td>\n",
       "      <td>0.000474</td>\n",
       "      <td>0.001801</td>\n",
       "      <td>-0.000564</td>\n",
       "      <td>-0.001576</td>\n",
       "      <td>-0.001513</td>\n",
       "    </tr>\n",
       "    <tr>\n",
       "      <th>has_availability</th>\n",
       "      <td>0.015545</td>\n",
       "      <td>0.015973</td>\n",
       "      <td>0.004735</td>\n",
       "      <td>-0.001606</td>\n",
       "      <td>0.020130</td>\n",
       "      <td>0.010020</td>\n",
       "      <td>0.006277</td>\n",
       "      <td>0.009946</td>\n",
       "      <td>0.019599</td>\n",
       "      <td>0.000474</td>\n",
       "      <td>1.000000</td>\n",
       "      <td>0.005734</td>\n",
       "      <td>0.027828</td>\n",
       "      <td>0.018409</td>\n",
       "      <td>0.004829</td>\n",
       "    </tr>\n",
       "    <tr>\n",
       "      <th>review_scores_rating</th>\n",
       "      <td>-0.017744</td>\n",
       "      <td>-0.003188</td>\n",
       "      <td>-0.005088</td>\n",
       "      <td>-0.004965</td>\n",
       "      <td>0.042159</td>\n",
       "      <td>0.021780</td>\n",
       "      <td>0.021605</td>\n",
       "      <td>0.015437</td>\n",
       "      <td>0.038987</td>\n",
       "      <td>0.001801</td>\n",
       "      <td>0.005734</td>\n",
       "      <td>1.000000</td>\n",
       "      <td>-0.007723</td>\n",
       "      <td>0.104462</td>\n",
       "      <td>0.008611</td>\n",
       "    </tr>\n",
       "    <tr>\n",
       "      <th>calculated_host_listings_count</th>\n",
       "      <td>0.193011</td>\n",
       "      <td>0.197289</td>\n",
       "      <td>-0.004969</td>\n",
       "      <td>-0.060286</td>\n",
       "      <td>0.111060</td>\n",
       "      <td>0.098681</td>\n",
       "      <td>0.022716</td>\n",
       "      <td>0.069234</td>\n",
       "      <td>0.182175</td>\n",
       "      <td>-0.000564</td>\n",
       "      <td>0.027828</td>\n",
       "      <td>-0.007723</td>\n",
       "      <td>1.000000</td>\n",
       "      <td>0.042975</td>\n",
       "      <td>0.062236</td>\n",
       "    </tr>\n",
       "    <tr>\n",
       "      <th>reviews_per_month</th>\n",
       "      <td>0.046496</td>\n",
       "      <td>0.064794</td>\n",
       "      <td>-0.010543</td>\n",
       "      <td>-0.037564</td>\n",
       "      <td>-0.041928</td>\n",
       "      <td>-0.013582</td>\n",
       "      <td>-0.048313</td>\n",
       "      <td>-0.015571</td>\n",
       "      <td>-0.015782</td>\n",
       "      <td>-0.001576</td>\n",
       "      <td>0.018409</td>\n",
       "      <td>0.104462</td>\n",
       "      <td>0.042975</td>\n",
       "      <td>1.000000</td>\n",
       "      <td>-0.024255</td>\n",
       "    </tr>\n",
       "    <tr>\n",
       "      <th>bathrooms</th>\n",
       "      <td>0.011237</td>\n",
       "      <td>0.022647</td>\n",
       "      <td>-0.000245</td>\n",
       "      <td>-0.017454</td>\n",
       "      <td>0.150095</td>\n",
       "      <td>0.412303</td>\n",
       "      <td>0.494838</td>\n",
       "      <td>0.392680</td>\n",
       "      <td>0.278695</td>\n",
       "      <td>-0.001513</td>\n",
       "      <td>0.004829</td>\n",
       "      <td>0.008611</td>\n",
       "      <td>0.062236</td>\n",
       "      <td>-0.024255</td>\n",
       "      <td>1.000000</td>\n",
       "    </tr>\n",
       "  </tbody>\n",
       "</table>\n",
       "</div>"
      ],
      "text/plain": [
       "                                      id  neighbourhood_cleansed  latitude  \\\n",
       "id                              1.000000                0.037677 -0.011257   \n",
       "neighbourhood_cleansed          0.037677                1.000000 -0.046838   \n",
       "latitude                       -0.011257               -0.046838  1.000000   \n",
       "longitude                      -0.009605               -0.318345  0.104669   \n",
       "room_type                       0.048788                0.209513  0.000040   \n",
       "accommodates                    0.024699                0.082926 -0.002344   \n",
       "bedrooms                        0.004035                0.002342 -0.014544   \n",
       "beds                           -0.007093                0.031645 -0.007183   \n",
       "price                           0.054321                0.313652 -0.016497   \n",
       "maximum_nights                 -0.006087                0.002843  0.002955   \n",
       "has_availability                0.015545                0.015973  0.004735   \n",
       "review_scores_rating           -0.017744               -0.003188 -0.005088   \n",
       "calculated_host_listings_count  0.193011                0.197289 -0.004969   \n",
       "reviews_per_month               0.046496                0.064794 -0.010543   \n",
       "bathrooms                       0.011237                0.022647 -0.000245   \n",
       "\n",
       "                                longitude  room_type  accommodates  bedrooms  \\\n",
       "id                              -0.009605   0.048788      0.024699  0.004035   \n",
       "neighbourhood_cleansed          -0.318345   0.209513      0.082926  0.002342   \n",
       "latitude                         0.104669   0.000040     -0.002344 -0.014544   \n",
       "longitude                        1.000000  -0.052804     -0.020317 -0.018941   \n",
       "room_type                       -0.052804   1.000000      0.539342  0.404000   \n",
       "accommodates                    -0.020317   0.539342      1.000000  0.760805   \n",
       "bedrooms                        -0.018941   0.404000      0.760805  1.000000   \n",
       "beds                            -0.019153   0.361266      0.768301  0.726516   \n",
       "price                           -0.090375   0.593141      0.575556  0.488769   \n",
       "maximum_nights                  -0.002517  -0.004014      0.000321 -0.001984   \n",
       "has_availability                -0.001606   0.020130      0.010020  0.006277   \n",
       "review_scores_rating            -0.004965   0.042159      0.021780  0.021605   \n",
       "calculated_host_listings_count  -0.060286   0.111060      0.098681  0.022716   \n",
       "reviews_per_month               -0.037564  -0.041928     -0.013582 -0.048313   \n",
       "bathrooms                       -0.017454   0.150095      0.412303  0.494838   \n",
       "\n",
       "                                    beds     price  maximum_nights  \\\n",
       "id                             -0.007093  0.054321       -0.006087   \n",
       "neighbourhood_cleansed          0.031645  0.313652        0.002843   \n",
       "latitude                       -0.007183 -0.016497        0.002955   \n",
       "longitude                      -0.019153 -0.090375       -0.002517   \n",
       "room_type                       0.361266  0.593141       -0.004014   \n",
       "accommodates                    0.768301  0.575556        0.000321   \n",
       "bedrooms                        0.726516  0.488769       -0.001984   \n",
       "beds                            1.000000  0.427029       -0.001909   \n",
       "price                           0.427029  1.000000       -0.003164   \n",
       "maximum_nights                 -0.001909 -0.003164        1.000000   \n",
       "has_availability                0.009946  0.019599        0.000474   \n",
       "review_scores_rating            0.015437  0.038987        0.001801   \n",
       "calculated_host_listings_count  0.069234  0.182175       -0.000564   \n",
       "reviews_per_month              -0.015571 -0.015782       -0.001576   \n",
       "bathrooms                       0.392680  0.278695       -0.001513   \n",
       "\n",
       "                                has_availability  review_scores_rating  \\\n",
       "id                                      0.015545             -0.017744   \n",
       "neighbourhood_cleansed                  0.015973             -0.003188   \n",
       "latitude                                0.004735             -0.005088   \n",
       "longitude                              -0.001606             -0.004965   \n",
       "room_type                               0.020130              0.042159   \n",
       "accommodates                            0.010020              0.021780   \n",
       "bedrooms                                0.006277              0.021605   \n",
       "beds                                    0.009946              0.015437   \n",
       "price                                   0.019599              0.038987   \n",
       "maximum_nights                          0.000474              0.001801   \n",
       "has_availability                        1.000000              0.005734   \n",
       "review_scores_rating                    0.005734              1.000000   \n",
       "calculated_host_listings_count          0.027828             -0.007723   \n",
       "reviews_per_month                       0.018409              0.104462   \n",
       "bathrooms                               0.004829              0.008611   \n",
       "\n",
       "                                calculated_host_listings_count  \\\n",
       "id                                                    0.193011   \n",
       "neighbourhood_cleansed                                0.197289   \n",
       "latitude                                             -0.004969   \n",
       "longitude                                            -0.060286   \n",
       "room_type                                             0.111060   \n",
       "accommodates                                          0.098681   \n",
       "bedrooms                                              0.022716   \n",
       "beds                                                  0.069234   \n",
       "price                                                 0.182175   \n",
       "maximum_nights                                       -0.000564   \n",
       "has_availability                                      0.027828   \n",
       "review_scores_rating                                 -0.007723   \n",
       "calculated_host_listings_count                        1.000000   \n",
       "reviews_per_month                                     0.042975   \n",
       "bathrooms                                             0.062236   \n",
       "\n",
       "                                reviews_per_month  bathrooms  \n",
       "id                                       0.046496   0.011237  \n",
       "neighbourhood_cleansed                   0.064794   0.022647  \n",
       "latitude                                -0.010543  -0.000245  \n",
       "longitude                               -0.037564  -0.017454  \n",
       "room_type                               -0.041928   0.150095  \n",
       "accommodates                            -0.013582   0.412303  \n",
       "bedrooms                                -0.048313   0.494838  \n",
       "beds                                    -0.015571   0.392680  \n",
       "price                                   -0.015782   0.278695  \n",
       "maximum_nights                          -0.001576  -0.001513  \n",
       "has_availability                         0.018409   0.004829  \n",
       "review_scores_rating                     0.104462   0.008611  \n",
       "calculated_host_listings_count           0.042975   0.062236  \n",
       "reviews_per_month                        1.000000  -0.024255  \n",
       "bathrooms                               -0.024255   1.000000  "
      ]
     },
     "execution_count": 56,
     "metadata": {},
     "output_type": "execute_result"
    }
   ],
   "source": [
    "df.corr()"
   ]
  },
  {
   "cell_type": "code",
   "execution_count": 57,
   "metadata": {},
   "outputs": [],
   "source": [
    "data=df.drop(columns=['id','latitude','longitude'])"
   ]
  },
  {
   "cell_type": "code",
   "execution_count": 58,
   "metadata": {},
   "outputs": [],
   "source": [
    "X=data.drop(columns=['price'])\n",
    "y=data['price']"
   ]
  },
  {
   "cell_type": "code",
   "execution_count": 59,
   "metadata": {},
   "outputs": [],
   "source": [
    "from sklearn.model_selection import train_test_split\n",
    "X_train,X_test,y_train,y_test=train_test_split(X,y,test_size=0.2)"
   ]
  },
  {
   "cell_type": "code",
   "execution_count": 60,
   "metadata": {},
   "outputs": [],
   "source": [
    "from sklearn.preprocessing import StandardScaler\n",
    "sc=StandardScaler()\n",
    "X_train=sc.fit_transform(X_train)\n",
    "X_test=sc.transform(X_test)"
   ]
  },
  {
   "cell_type": "code",
   "execution_count": 63,
   "metadata": {},
   "outputs": [
    {
     "ename": "ValueError",
     "evalue": "source code string cannot contain null bytes",
     "output_type": "error",
     "traceback": [
      "\u001b[1;31m---------------------------------------------------------------------------\u001b[0m",
      "\u001b[1;31mValueError\u001b[0m                                Traceback (most recent call last)",
      "\u001b[1;32m<ipython-input-63-39e29d2ddf79>\u001b[0m in \u001b[0;36m<module>\u001b[1;34m\u001b[0m\n\u001b[1;32m----> 1\u001b[1;33m \u001b[1;32mfrom\u001b[0m \u001b[0mkeras\u001b[0m\u001b[1;33m.\u001b[0m\u001b[0mmodels\u001b[0m \u001b[1;32mimport\u001b[0m \u001b[0mSequential\u001b[0m\u001b[1;33m\u001b[0m\u001b[1;33m\u001b[0m\u001b[0m\n\u001b[0m\u001b[0;32m      2\u001b[0m \u001b[1;32mfrom\u001b[0m \u001b[0mkeras\u001b[0m\u001b[1;33m.\u001b[0m\u001b[0mlayers\u001b[0m \u001b[1;32mimport\u001b[0m \u001b[0mDense\u001b[0m\u001b[1;33m,\u001b[0m \u001b[0mActivation\u001b[0m\u001b[1;33m,\u001b[0m \u001b[0mEmbedding\u001b[0m\u001b[1;33m,\u001b[0m \u001b[0mFlatten\u001b[0m\u001b[1;33m,\u001b[0m \u001b[0mLeakyReLU\u001b[0m\u001b[1;33m,\u001b[0m \u001b[0mBatchNormalization\u001b[0m\u001b[1;33m,\u001b[0m \u001b[0mDropout\u001b[0m\u001b[1;33m\u001b[0m\u001b[1;33m\u001b[0m\u001b[0m\n\u001b[0;32m      3\u001b[0m \u001b[1;32mfrom\u001b[0m \u001b[0mkeras\u001b[0m\u001b[1;33m.\u001b[0m\u001b[0mactivations\u001b[0m \u001b[1;32mimport\u001b[0m \u001b[0mrelu\u001b[0m\u001b[1;33m,\u001b[0m \u001b[0msigmoid\u001b[0m\u001b[1;33m\u001b[0m\u001b[1;33m\u001b[0m\u001b[0m\n\u001b[0;32m      4\u001b[0m \u001b[1;32mfrom\u001b[0m \u001b[0mkeras\u001b[0m\u001b[1;33m.\u001b[0m\u001b[0mlayers\u001b[0m \u001b[1;32mimport\u001b[0m \u001b[0mLeakyReLU\u001b[0m\u001b[1;33m\u001b[0m\u001b[1;33m\u001b[0m\u001b[0m\n",
      "\u001b[1;32m~\\anaconda3\\lib\\site-packages\\keras\\__init__.py\u001b[0m in \u001b[0;36m<module>\u001b[1;34m\u001b[0m\n\u001b[0;32m     19\u001b[0m \"\"\"\n\u001b[0;32m     20\u001b[0m \u001b[1;31m# pylint: disable=unused-import\u001b[0m\u001b[1;33m\u001b[0m\u001b[1;33m\u001b[0m\u001b[1;33m\u001b[0m\u001b[0m\n\u001b[1;32m---> 21\u001b[1;33m \u001b[1;32mfrom\u001b[0m \u001b[0mtensorflow\u001b[0m\u001b[1;33m.\u001b[0m\u001b[0mpython\u001b[0m \u001b[1;32mimport\u001b[0m \u001b[0mtf2\u001b[0m\u001b[1;33m\u001b[0m\u001b[1;33m\u001b[0m\u001b[0m\n\u001b[0m\u001b[0;32m     22\u001b[0m \u001b[1;32mfrom\u001b[0m \u001b[0mkeras\u001b[0m \u001b[1;32mimport\u001b[0m \u001b[0mdistribute\u001b[0m\u001b[1;33m\u001b[0m\u001b[1;33m\u001b[0m\u001b[0m\n\u001b[0;32m     23\u001b[0m \u001b[1;33m\u001b[0m\u001b[0m\n",
      "\u001b[1;32m~\\anaconda3\\lib\\site-packages\\tensorflow\\__init__.py\u001b[0m in \u001b[0;36m<module>\u001b[1;34m\u001b[0m\n\u001b[0;32m     39\u001b[0m \u001b[1;32mimport\u001b[0m \u001b[0msys\u001b[0m \u001b[1;32mas\u001b[0m \u001b[0m_sys\u001b[0m\u001b[1;33m\u001b[0m\u001b[1;33m\u001b[0m\u001b[0m\n\u001b[0;32m     40\u001b[0m \u001b[1;33m\u001b[0m\u001b[0m\n\u001b[1;32m---> 41\u001b[1;33m \u001b[1;32mfrom\u001b[0m \u001b[0mtensorflow\u001b[0m\u001b[1;33m.\u001b[0m\u001b[0mpython\u001b[0m\u001b[1;33m.\u001b[0m\u001b[0mtools\u001b[0m \u001b[1;32mimport\u001b[0m \u001b[0mmodule_util\u001b[0m \u001b[1;32mas\u001b[0m \u001b[0m_module_util\u001b[0m\u001b[1;33m\u001b[0m\u001b[1;33m\u001b[0m\u001b[0m\n\u001b[0m\u001b[0;32m     42\u001b[0m \u001b[1;32mfrom\u001b[0m \u001b[0mtensorflow\u001b[0m\u001b[1;33m.\u001b[0m\u001b[0mpython\u001b[0m\u001b[1;33m.\u001b[0m\u001b[0mutil\u001b[0m\u001b[1;33m.\u001b[0m\u001b[0mlazy_loader\u001b[0m \u001b[1;32mimport\u001b[0m \u001b[0mLazyLoader\u001b[0m \u001b[1;32mas\u001b[0m \u001b[0m_LazyLoader\u001b[0m\u001b[1;33m\u001b[0m\u001b[1;33m\u001b[0m\u001b[0m\n\u001b[0;32m     43\u001b[0m \u001b[1;33m\u001b[0m\u001b[0m\n",
      "\u001b[1;31mValueError\u001b[0m: source code string cannot contain null bytes"
     ]
    }
   ],
   "source": [
    "from keras.models import Sequential\n",
    "from keras.layers import Dense, Activation, Embedding, Flatten, LeakyReLU, BatchNormalization, Dropout\n",
    "from keras.activations import relu, sigmoid\n",
    "from keras.layers import LeakyReLU"
   ]
  },
  {
   "cell_type": "code",
   "execution_count": null,
   "metadata": {},
   "outputs": [],
   "source": [
    "from keras.wrappers.scikit_learn import KerasRegressor\n",
    "from sklearn.model_selection import GridSearchCV"
   ]
  },
  {
   "cell_type": "code",
   "execution_count": null,
   "metadata": {},
   "outputs": [],
   "source": [
    "def create_model(layers, activation):\n",
    "    model = Sequential()\n",
    "    for i, nodes in enumerate(layers):\n",
    "        if i==0:\n",
    "            model.add(Dense(nodes,input_dim=X_train.shape[1]))\n",
    "            model.add(Activation(activation))\n",
    "        else:\n",
    "            model.add(Dense(nodes))\n",
    "            model.add(Activation(activation))\n",
    "    model.add(Dense(1)) \n",
    "    \n",
    "    model.compile(optimizer='adam', loss='mean_squared_error',metrics=['mean_absolute_error'])\n",
    "    return model\n",
    "    \n",
    "model = KerasRegressor(build_fn=create_model)"
   ]
  },
  {
   "cell_type": "code",
   "execution_count": null,
   "metadata": {},
   "outputs": [],
   "source": [
    "layers = [[25], [36, 18], [30,20,10]]\n",
    "activations = ['linear', 'relu']\n",
    "param_grid = dict(layers=layers, activation=activations, batch_size = [128, 256], epochs=[8])\n",
    "grid = GridSearchCV(estimator=model, param_grid=param_grid)\n",
    "grid_result = grid.fit(X_train, y_train)\n",
    "[grid_result.best_score_,grid_result.best_params_]"
   ]
  },
  {
   "cell_type": "code",
   "execution_count": null,
   "metadata": {},
   "outputs": [],
   "source": [
    "regressor = Sequential()\n",
    "\n",
    "# Adding the input layer and the first hidden layer\n",
    "regressor.add(Dense(units=10, kernel_initializer = 'he_uniform',activation='relu',input_dim = X_train.shape[1]))\n",
    "\n",
    "# Adding the second hidden layer\n",
    "regressor.add(Dense(units=30,kernel_initializer=\"he_uniform\",activation='relu'))\n",
    "# Adding the output layer\n",
    "regressor.add(Dense(units=20, kernel_initializer = 'he_uniform', activation = 'relu'))\n",
    "regressor.add(Dense(units=10, kernel_initializer = 'he_uniform', activation = 'relu'))\n",
    "# Compiling the ANN\n",
    "regressor.compile(optimizer = 'adam', loss = 'mean_squared_error', metrics = ['mean_squared_error'])\n",
    "\n",
    "# Fitting the ANN to the Training set\n",
    "model_history=regressor.fit(X_train, y_train,validation_split=0.33, batch_size = 128, epochs=48)\n",
    "y_pred = regressor.predict(X_test)"
   ]
  },
  {
   "cell_type": "code",
   "execution_count": null,
   "metadata": {},
   "outputs": [],
   "source": [
    "from sklearn.metrics import mean_absolute_error\n",
    "mean_absolute_error(y_pred, y_test)\n"
   ]
  },
  {
   "cell_type": "code",
   "execution_count": null,
   "metadata": {},
   "outputs": [],
   "source": [
    "y_pred"
   ]
  },
  {
   "cell_type": "code",
   "execution_count": null,
   "metadata": {},
   "outputs": [],
   "source": [
    "from sklearn.metrics import mean_squared_error\n",
    "mean_squared_error(y_test, pred,squared=False)"
   ]
  },
  {
   "cell_type": "code",
   "execution_count": null,
   "metadata": {},
   "outputs": [],
   "source": []
  },
  {
   "cell_type": "code",
   "execution_count": null,
   "metadata": {},
   "outputs": [],
   "source": []
  },
  {
   "cell_type": "code",
   "execution_count": null,
   "metadata": {},
   "outputs": [],
   "source": []
  }
 ],
 "metadata": {
  "kernelspec": {
   "display_name": "Python 3",
   "language": "python",
   "name": "python3"
  },
  "language_info": {
   "codemirror_mode": {
    "name": "ipython",
    "version": 3
   },
   "file_extension": ".py",
   "mimetype": "text/x-python",
   "name": "python",
   "nbconvert_exporter": "python",
   "pygments_lexer": "ipython3",
   "version": "3.8.5"
  }
 },
 "nbformat": 4,
 "nbformat_minor": 4
}
